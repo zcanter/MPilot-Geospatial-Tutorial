{
 "cells": [
  {
   "cell_type": "code",
   "execution_count": 1,
   "id": "3bdb587f-74f3-4f4b-8016-f0cae5d2eb4c",
   "metadata": {},
   "outputs": [],
   "source": [
    "import geopandas as gpd\n",
    "import pandas as pd"
   ]
  },
  {
   "cell_type": "code",
   "execution_count": 3,
   "id": "ff297aee-fecd-470f-8402-61be4ee8ba2e",
   "metadata": {},
   "outputs": [
    {
     "name": "stdout",
     "output_type": "stream",
     "text": [
      "<class 'geopandas.geodataframe.GeoDataFrame'>\n",
      "RangeIndex: 167 entries, 0 to 166\n",
      "Data columns (total 8 columns):\n",
      " #   Column      Non-Null Count  Dtype   \n",
      "---  ------      --------------  -----   \n",
      " 0   rd_dens     167 non-null    float64 \n",
      " 1   ag_dens     167 non-null    float64 \n",
      " 2   ivs_dens    167 non-null    float64 \n",
      " 3   av_veg_dep  167 non-null    float64 \n",
      " 4   Shape_Leng  167 non-null    float64 \n",
      " 5   Shape_Area  167 non-null    float64 \n",
      " 6   geometry    167 non-null    geometry\n",
      " 7   indx        167 non-null    int64   \n",
      "dtypes: float64(6), geometry(1), int64(1)\n",
      "memory usage: 10.6 KB\n"
     ]
    }
   ],
   "source": [
    "input_reporting_units = gpd.read_file(\"in_data/input_reporting_units.shp\")\n",
    "input_reporting_units = input_reporting_units.rename(columns={'Agricultur':'ag_dens', 'Roads_Dens': 'rd_dens',\n",
    "                                                  'Invasives_':'ivs_dens', 'Vegetation': 'av_veg_dep'})\n",
    "input_reporting_units['indx'] = input_reporting_units.index\n",
    "input_reporting_units.to_csv(\"in_data/input_reporting_units.csv\")\n",
    "input_reporting_units.info()"
   ]
  },
  {
   "cell_type": "code",
   "execution_count": 4,
   "id": "50181a83-be92-442e-8bfc-844eebeb23b9",
   "metadata": {},
   "outputs": [
    {
     "data": {
      "text/plain": [
       "<AxesSubplot:>"
      ]
     },
     "execution_count": 4,
     "metadata": {},
     "output_type": "execute_result"
    },
    {
     "data": {
      "image/png": "[encoded data removed]",
      "text/plain": [
       "<Figure size 432x288 with 1 Axes>"
      ]
     },
     "metadata": {
      "needs_background": "light"
     },
     "output_type": "display_data"
    }
   ],
   "source": [
    "input_reporting_units.plot()"
   ]
  },
  {
   "cell_type": "code",
   "execution_count": 5,
   "id": "79efa562-dd15-4cc1-9358-442db47472c5",
   "metadata": {},
   "outputs": [],
   "source": [
    "from mpilot.program import Program\n",
    "import os"
   ]
  },
  {
   "cell_type": "code",
   "execution_count": 6,
   "id": "83d9eee6-58aa-4ba0-9315-74d232c6f0c5",
   "metadata": {},
   "outputs": [],
   "source": [
    "THIS_FOLDER = os.path.dirname(os.path.abspath(\"MPilot-Geospatial-Tutorial\"))\n",
    "\n",
    "in_path = os.path.join(THIS_FOLDER, 'input_reporting_units.csv')\n",
    "out_path = os.path.join(THIS_FOLDER, 'output_reporting_units.csv')\n",
    "\n",
    "OUTPUT_SHAPEFILE_PATH = os.path.join(THIS_FOLDER, 'out_data/output_reporting_units.shp')"
   ]
  },
  {
   "cell_type": "code",
   "execution_count": 7,
   "id": "8458b41a-4eb0-47b8-b72c-2b916e180456",
   "metadata": {},
   "outputs": [],
   "source": [
    "p = Program()\n",
    "EEMSRead = p.find_command_class('EEMSRead')\n",
    "p.add_command(EEMSRead, 'rd_dens', {'InFileName': in_path, 'InFieldName': 'rd_dens'})\n",
    "p.add_command(EEMSRead, 'ag_dens', {'InFileName': in_path, 'InFieldName': 'ag_dens'})\n",
    "p.add_command(EEMSRead, 'indx', {'InFileName': in_path, 'InFieldName': 'indx'})"
   ]
  },
  {
   "cell_type": "code",
   "execution_count": 8,
   "id": "f57b1aef-04db-4d5a-8be7-05846461e177",
   "metadata": {},
   "outputs": [],
   "source": [
    "# CvtToFuzzy\n",
    "CvtToFuzzy = p.find_command_class('CvtToFuzzy')\n",
    "p.add_command(CvtToFuzzy, 'ag_dens_fz', {'InFieldName': 'ag_dens', 'TrueThreshold': 0, 'FalseThreshold': 50})\n",
    "p.add_command(CvtToFuzzy, 'rd_dens_fz', {'InFieldName': 'rd_dens', 'TrueThreshold': 0, 'FalseThreshold': 3})"
   ]
  },
  {
   "cell_type": "code",
   "execution_count": 9,
   "id": "9d0cf8ab-6aa4-4ddf-8e4c-5bfd3ac64fe8",
   "metadata": {},
   "outputs": [],
   "source": [
    "# FuzzyAnd\n",
    "FuzzyAnd = p.find_command_class('FuzzyAnd')\n",
    "p.add_command(FuzzyAnd, 'low_human_imp', {'InFieldNames': ['ag_dens_fz', 'rd_dens_fz']})"
   ]
  },
  {
   "cell_type": "code",
   "execution_count": 10,
   "id": "bfddc1b5-e7c0-4891-b1a3-1e1a854c37ec",
   "metadata": {},
   "outputs": [],
   "source": [
    "# EEMSWrite\n",
    "EEMSWrite = p.find_command_class('EEMSWrite')\n",
    "p.add_command(EEMSWrite, 'output', {'OutFileName': out_path, 'OutFieldNames': ['indx', 'low_human_imp', 'ag_dens_fz', 'rd_dens_fz']})"
   ]
  },
  {
   "cell_type": "code",
   "execution_count": 11,
   "id": "599c8af4-52b5-4c81-875a-dd2cd753f47c",
   "metadata": {},
   "outputs": [],
   "source": [
    "# Create the EEMS Command File\n",
    "p.to_file('EEMS_model.mpt')\n",
    "\n",
    "# Run the EEMS model\n",
    "p.run()"
   ]
  },
  {
   "cell_type": "code",
   "execution_count": 13,
   "id": "ada21d37-9558-4cf2-af6d-931da30ceebe",
   "metadata": {},
   "outputs": [
    {
     "name": "stdout",
     "output_type": "stream",
     "text": [
      "<class 'pandas.core.frame.DataFrame'>\n",
      "Int64Index: 167 entries, 0 to 166\n",
      "Data columns (total 5 columns):\n",
      " #   Column         Non-Null Count  Dtype   \n",
      "---  ------         --------------  -----   \n",
      " 0   indx           167 non-null    float64 \n",
      " 1   low_human_imp  167 non-null    float64 \n",
      " 2   ag_dens_fz     167 non-null    float64 \n",
      " 3   rd_dens_fz     167 non-null    float64 \n",
      " 4   geometry       167 non-null    geometry\n",
      "dtypes: float64(4), geometry(1)\n",
      "memory usage: 7.8 KB\n"
     ]
    },
    {
     "name": "stderr",
     "output_type": "stream",
     "text": [
      "C:\\Users\\zrcan\\AppData\\Local\\ESRI\\conda\\envs\\arcgispro-py3-clone\\lib\\site-packages\\ipykernel_launcher.py:6: UserWarning: Column names longer than 10 characters will be truncated when saved to ESRI Shapefile.\n",
      "  \n"
     ]
    }
   ],
   "source": [
    "output_reporting_units = pd.read_csv(\"output_reporting_units.csv\")\n",
    "output_reporting_units = pd.merge(output_reporting_units, input_reporting_units[[\"indx\", \"geometry\"]], on='indx', how='inner')\n",
    "output_reporting_units.info()\n",
    "output_reporting_units = gpd.GeoDataFrame(output_reporting_units, geometry = output_reporting_units.geometry)\n",
    "output_reporting_units.set_crs(epsg=4326)\n",
    "output_reporting_units.to_file(filename = OUTPUT_SHAPEFILE_PATH)"
   ]
  },
  {
   "cell_type": "code",
   "execution_count": null,
   "id": "e9adc6b2-5c64-47a9-9a02-0200c70f55a8",
   "metadata": {},
   "outputs": [],
   "source": []
  }
 ],
 "metadata": {
  "kernelspec": {
   "display_name": "Python 3 (ipykernel)",
   "language": "python",
   "name": "python3"
  },
  "language_info": {
   "codemirror_mode": {
    "name": "ipython",
    "version": 3
   },
   "file_extension": ".py",
   "mimetype": "text/x-python",
   "name": "python",
   "nbconvert_exporter": "python",
   "pygments_lexer": "ipython3",
   "version": "3.7.10"
  }
 },
 "nbformat": 4,
 "nbformat_minor": 5
}
